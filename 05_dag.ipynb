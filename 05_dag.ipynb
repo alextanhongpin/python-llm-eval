{
 "cells": [
  {
   "cell_type": "code",
   "execution_count": 8,
   "id": "cd0a9a1b-45ac-40e4-afa4-fd0337e7f083",
   "metadata": {},
   "outputs": [],
   "source": [
    "from deepeval import evaluate\n",
    "from deepeval.dataset import EvaluationDataset\n",
    "from deepeval.metrics import DAGMetric\n",
    "from deepeval.metrics.dag import (\n",
    "    BinaryJudgementNode,\n",
    "    DeepAcyclicGraph,\n",
    "    NonBinaryJudgementNode,\n",
    "    TaskNode,\n",
    "    VerdictNode,\n",
    ")\n",
    "from deepeval.test_case import LLMTestCase, LLMTestCaseParams\n",
    "\n",
    "correct_order_node = NonBinaryJudgementNode(\n",
    "    criteria=\"Are the summary headings in the correct order: 'intro' => 'body' => 'conclusion'?\",\n",
    "    children=[\n",
    "        VerdictNode(verdict=\"Yes\", score=10),\n",
    "        VerdictNode(verdict=\"Two are out of order\", score=4),\n",
    "        VerdictNode(verdict=\"All out of order\", score=2),\n",
    "    ],\n",
    ")\n",
    "\n",
    "correct_headings_node = BinaryJudgementNode(\n",
    "    criteria=\"Does the summary headings contain all three: 'intro', 'body', and 'conclusion'?\",\n",
    "    children=[\n",
    "        VerdictNode(verdict=False, score=0),\n",
    "        VerdictNode(verdict=True, child=correct_order_node),\n",
    "    ],\n",
    ")\n",
    "\n",
    "extract_headings_node = TaskNode(\n",
    "    instructions=\"Extract all headings in `actual_output`\",\n",
    "    evaluation_params=[LLMTestCaseParams.ACTUAL_OUTPUT],\n",
    "    output_label=\"Summary headings\",\n",
    "    children=[correct_headings_node, correct_order_node],\n",
    ")\n",
    "\n",
    "# Initialize the DAG\n",
    "dag = DeepAcyclicGraph(root_nodes=[extract_headings_node])\n",
    "\n",
    "# Create metric!\n",
    "metric = DAGMetric(name=\"Summarization\", dag=dag)"
   ]
  },
  {
   "cell_type": "code",
   "execution_count": 4,
   "id": "838ae02f-4608-481e-be6a-587eb8bd2cd7",
   "metadata": {},
   "outputs": [],
   "source": [
    "from ollama import ChatResponse, chat\n",
    "\n",
    "\n",
    "def query(prompt: str) -> str:\n",
    "    response: ChatResponse = chat(\n",
    "        model=\"llama3.2\",\n",
    "        messages=[\n",
    "            {\n",
    "                \"role\": \"user\",\n",
    "                \"content\": prompt,\n",
    "            },\n",
    "        ],\n",
    "    )\n",
    "    return response.message.content"
   ]
  },
  {
   "cell_type": "code",
   "execution_count": 30,
   "id": "84b02630-01a3-4207-9763-6554aaa7a184",
   "metadata": {},
   "outputs": [
    {
     "name": "stdout",
     "output_type": "stream",
     "text": [
      "**Introduction**\n",
      "\n",
      "Cats are one of the most popular pets worldwide, known for their independence, agility, and affectionate nature. With over 70 recognized breeds, cats have been human companions for thousands of years, providing entertainment, comfort, and loyalty to their owners. From ancient Egyptian worshippers to modern-day cat enthusiasts, felines have captured the hearts of people across cultures and generations.\n",
      "\n",
      "**Body**\n",
      "\n",
      "Cats are characterized by their unique physical features, including their slender bodies, short legs, and retractable claws. Their soft, fur coats come in a wide range of colors and patterns, making each individual cat distinct. Domesticated cats are known for their playful, curious nature, often exhibiting behaviors such as pouncing on toys, scratching furniture, and kneading with their paws. Cats also possess exceptional hearing and vision abilities, allowing them to navigate and hunt with ease in the dark. Despite their independent reputation, many cats form strong bonds with their owners, enjoying cuddles, playtime, and even sharing meals.\n",
      "\n",
      "**Conclusion**\n",
      "\n",
      "Cats continue to fascinate and enchant people around the world, offering a unique combination of independence and affection. Whether as pets, companions, or simply admired for their beauty and agility, cats have earned their place as beloved animals in human society. With their rich history, diverse breeds, and endearing personalities, it's no wonder that cats remain one of the most popular pets globally, bringing joy and companionship to millions of people worldwide.\n"
     ]
    }
   ],
   "source": [
    "prompt = \"provide a summary about cats. keep it in a paragraph, provide intro, body and conclusion\"\n",
    "response = query(prompt)\n",
    "print(response)"
   ]
  },
  {
   "cell_type": "code",
   "execution_count": 31,
   "id": "8e4945cd-deea-4822-b6e0-cee7063c2714",
   "metadata": {},
   "outputs": [],
   "source": [
    "dataset = EvaluationDataset(\n",
    "    test_cases=[LLMTestCase(input=prompt, actual_output=response)]\n",
    ")"
   ]
  },
  {
   "cell_type": "code",
   "execution_count": 32,
   "id": "4a90df3b-f09a-4e69-987c-bf29bd06ab18",
   "metadata": {},
   "outputs": [
    {
     "data": {
      "text/html": [
       "<pre style=\"white-space:pre;overflow-x:auto;line-height:normal;font-family:Menlo,'DejaVu Sans Mono',consolas,'Courier New',monospace\">✨ You're running DeepEval's latest <span style=\"color: #6a00ff; text-decoration-color: #6a00ff\">Summarization </span><span style=\"color: #6a00ff; text-decoration-color: #6a00ff; font-weight: bold\">(</span><span style=\"color: #6a00ff; text-decoration-color: #6a00ff\">DAG</span><span style=\"color: #6a00ff; text-decoration-color: #6a00ff; font-weight: bold\">)</span><span style=\"color: #6a00ff; text-decoration-color: #6a00ff\"> Metric</span>! <span style=\"color: #374151; text-decoration-color: #374151; font-weight: bold\">(</span><span style=\"color: #374151; text-decoration-color: #374151\">using deepseek-r</span><span style=\"color: #374151; text-decoration-color: #374151; font-weight: bold\">1:8b</span><span style=\"color: #374151; text-decoration-color: #374151\"> </span><span style=\"color: #374151; text-decoration-color: #374151; font-weight: bold\">(</span><span style=\"color: #374151; text-decoration-color: #374151\">Ollama</span><span style=\"color: #374151; text-decoration-color: #374151; font-weight: bold\">)</span><span style=\"color: #374151; text-decoration-color: #374151\">, </span><span style=\"color: #374151; text-decoration-color: #374151\">strict</span><span style=\"color: #374151; text-decoration-color: #374151\">=</span><span style=\"color: #374151; text-decoration-color: #374151; font-style: italic\">False</span><span style=\"color: #374151; text-decoration-color: #374151\">, </span>\n",
       "<span style=\"color: #374151; text-decoration-color: #374151\">async_mode</span><span style=\"color: #374151; text-decoration-color: #374151\">=</span><span style=\"color: #374151; text-decoration-color: #374151; font-style: italic\">True</span><span style=\"color: #374151; text-decoration-color: #374151; font-weight: bold\">)</span><span style=\"color: #374151; text-decoration-color: #374151\">...</span>\n",
       "</pre>\n"
      ],
      "text/plain": [
       "✨ You're running DeepEval's latest \u001b[38;2;106;0;255mSummarization \u001b[0m\u001b[1;38;2;106;0;255m(\u001b[0m\u001b[38;2;106;0;255mDAG\u001b[0m\u001b[1;38;2;106;0;255m)\u001b[0m\u001b[38;2;106;0;255m Metric\u001b[0m! \u001b[1;38;2;55;65;81m(\u001b[0m\u001b[38;2;55;65;81musing deepseek-r\u001b[0m\u001b[1;38;2;55;65;81m1:8b\u001b[0m\u001b[38;2;55;65;81m \u001b[0m\u001b[1;38;2;55;65;81m(\u001b[0m\u001b[38;2;55;65;81mOllama\u001b[0m\u001b[1;38;2;55;65;81m)\u001b[0m\u001b[38;2;55;65;81m, \u001b[0m\u001b[38;2;55;65;81mstrict\u001b[0m\u001b[38;2;55;65;81m=\u001b[0m\u001b[3;38;2;55;65;81mFalse\u001b[0m\u001b[38;2;55;65;81m, \u001b[0m\n",
       "\u001b[38;2;55;65;81masync_mode\u001b[0m\u001b[38;2;55;65;81m=\u001b[0m\u001b[3;38;2;55;65;81mTrue\u001b[0m\u001b[1;38;2;55;65;81m)\u001b[0m\u001b[38;2;55;65;81m...\u001b[0m\n"
      ]
     },
     "metadata": {},
     "output_type": "display_data"
    },
    {
     "name": "stderr",
     "output_type": "stream",
     "text": [
      "Evaluating 1 test case(s) in parallel: |████████████████████████████████████████████████|100% (1/1) [Time Taken: 00:10, 10.50s/test case]"
     ]
    },
    {
     "name": "stdout",
     "output_type": "stream",
     "text": [
      "\n",
      "======================================================================\n",
      "\n",
      "Metrics Summary\n",
      "\n",
      "  - ✅ Summarization (DAG) (score: 1.0, threshold: 0.5, strict: False, evaluation model: deepseek-r1:8b (Ollama), reason: The score is 1.0 because all summary headings are correctly structured and follow the required order., error: None)\n",
      "\n",
      "For test case:\n",
      "\n",
      "  - input: provide a summary about cats. keep it in a paragraph, provide intro, body and conclusion\n",
      "  - actual output: **Introduction**\n",
      "\n",
      "Cats are one of the most popular pets worldwide, known for their independence, agility, and affectionate nature. With over 70 recognized breeds, cats have been human companions for thousands of years, providing entertainment, comfort, and loyalty to their owners. From ancient Egyptian worshippers to modern-day cat enthusiasts, felines have captured the hearts of people across cultures and generations.\n",
      "\n",
      "**Body**\n",
      "\n",
      "Cats are characterized by their unique physical features, including their slender bodies, short legs, and retractable claws. Their soft, fur coats come in a wide range of colors and patterns, making each individual cat distinct. Domesticated cats are known for their playful, curious nature, often exhibiting behaviors such as pouncing on toys, scratching furniture, and kneading with their paws. Cats also possess exceptional hearing and vision abilities, allowing them to navigate and hunt with ease in the dark. Despite their independent reputation, many cats form strong bonds with their owners, enjoying cuddles, playtime, and even sharing meals.\n",
      "\n",
      "**Conclusion**\n",
      "\n",
      "Cats continue to fascinate and enchant people around the world, offering a unique combination of independence and affection. Whether as pets, companions, or simply admired for their beauty and agility, cats have earned their place as beloved animals in human society. With their rich history, diverse breeds, and endearing personalities, it's no wonder that cats remain one of the most popular pets globally, bringing joy and companionship to millions of people worldwide.\n",
      "  - expected output: None\n",
      "  - context: None\n",
      "  - retrieval context: None\n",
      "\n",
      "======================================================================\n",
      "\n",
      "Overall Metric Pass Rates\n",
      "\n",
      "Summarization (DAG): 100.00% pass rate\n",
      "\n",
      "======================================================================\n",
      "\n"
     ]
    },
    {
     "name": "stderr",
     "output_type": "stream",
     "text": [
      "\n"
     ]
    },
    {
     "data": {
      "text/html": [
       "<pre style=\"white-space:pre;overflow-x:auto;line-height:normal;font-family:Menlo,'DejaVu Sans Mono',consolas,'Courier New',monospace\">\n",
       "<span style=\"color: #05f58d; text-decoration-color: #05f58d\">✓</span> Tests finished 🎉! Run <span style=\"color: #008000; text-decoration-color: #008000; font-weight: bold\">'deepeval login'</span> to save and analyze evaluation results on Confident AI.\n",
       " \n",
       "✨👀 Looking for a place for your LLM test data to live 🏡❤️ ? Use <span style=\"color: #6a00ff; text-decoration-color: #6a00ff\">Confident AI</span> to get &amp; share testing reports, \n",
       "experiment with models/prompts, and catch regressions for your LLM system. Just run <span style=\"color: #008080; text-decoration-color: #008080\">'deepeval login'</span> in the CLI. \n",
       "\n",
       "</pre>\n"
      ],
      "text/plain": [
       "\n",
       "\u001b[38;2;5;245;141m✓\u001b[0m Tests finished 🎉! Run \u001b[1;32m'deepeval login'\u001b[0m to save and analyze evaluation results on Confident AI.\n",
       " \n",
       "✨👀 Looking for a place for your LLM test data to live 🏡❤️ ? Use \u001b[38;2;106;0;255mConfident AI\u001b[0m to get & share testing reports, \n",
       "experiment with models/prompts, and catch regressions for your LLM system. Just run \u001b[36m'deepeval login'\u001b[0m in the CLI. \n",
       "\n"
      ]
     },
     "metadata": {},
     "output_type": "display_data"
    },
    {
     "data": {
      "text/plain": [
       "EvaluationResult(test_results=[TestResult(name='test_case_0', success=True, metrics_data=[MetricData(name='Summarization (DAG)', threshold=0.5, success=True, score=1.0, reason='The score is 1.0 because all summary headings are correctly structured and follow the required order.', strict_mode=False, evaluation_model='deepseek-r1:8b (Ollama)', error=None, evaluation_cost=0.0, verbose_logs=\"______________________\\n| TaskNode | Level == 0 |\\n*******************************\\nLabel: None\\n\\nInstructions:\\nExtract all headings in `actual_output`\\n\\nSummary headings:\\nCats are one of the most popular pets worldwide\\n \\n \\n__________________________________\\n| BinaryJudgementNode | Level == 1 |\\n************************************************\\nLabel: None\\n\\nCriteria:\\nDoes the summary headings contain all three: 'intro', 'body', and 'conclusion'?\\n\\nVerdict: True\\nReason: The structure contains all three sections: introduction, body, and conclusion.\\n \\n \\n_____________________________________\\n| NonBinaryJudgementNode | Level == 2 |\\n*****************************************************\\nLabel: None\\n\\nCriteria:\\nAre the summary headings in the correct order: 'intro' => 'body' => 'conclusion'?\\n\\nVerdict: Yes\\nReason: The correct order for summary headings is intro, body, and conclusion. The given headings are Cats are one of the most popular pets worldwide (which should be an intro), followed by [empty], then [empty]. This skips the necessary body section before the conclusion. Therefore, the correct order is not followed.\\n \\n \\n________________________\\n| VerdictNode | Level == 3 |\\n**********************************\\nVerdict: Yes\\nType: Deterministic\")], conversational=False, multimodal=False, input='provide a summary about cats. keep it in a paragraph, provide intro, body and conclusion', actual_output=\"**Introduction**\\n\\nCats are one of the most popular pets worldwide, known for their independence, agility, and affectionate nature. With over 70 recognized breeds, cats have been human companions for thousands of years, providing entertainment, comfort, and loyalty to their owners. From ancient Egyptian worshippers to modern-day cat enthusiasts, felines have captured the hearts of people across cultures and generations.\\n\\n**Body**\\n\\nCats are characterized by their unique physical features, including their slender bodies, short legs, and retractable claws. Their soft, fur coats come in a wide range of colors and patterns, making each individual cat distinct. Domesticated cats are known for their playful, curious nature, often exhibiting behaviors such as pouncing on toys, scratching furniture, and kneading with their paws. Cats also possess exceptional hearing and vision abilities, allowing them to navigate and hunt with ease in the dark. Despite their independent reputation, many cats form strong bonds with their owners, enjoying cuddles, playtime, and even sharing meals.\\n\\n**Conclusion**\\n\\nCats continue to fascinate and enchant people around the world, offering a unique combination of independence and affection. Whether as pets, companions, or simply admired for their beauty and agility, cats have earned their place as beloved animals in human society. With their rich history, diverse breeds, and endearing personalities, it's no wonder that cats remain one of the most popular pets globally, bringing joy and companionship to millions of people worldwide.\", expected_output=None, context=None, retrieval_context=None)], confident_link=None)"
      ]
     },
     "execution_count": 32,
     "metadata": {},
     "output_type": "execute_result"
    }
   ],
   "source": [
    "evaluate(dataset, [metric])"
   ]
  },
  {
   "cell_type": "code",
   "execution_count": 28,
   "id": "7b31c230-cde1-46a3-9430-8f91486e8863",
   "metadata": {},
   "outputs": [
    {
     "name": "stdout",
     "output_type": "stream",
     "text": [
      "Cats are popular domesticated animals known for their agility, playfulness, and affectionate nature. They have a unique physical appearance, with characteristics such as whiskers, pointy ears, and retractable claws.\n",
      "Cats are also highly adaptable and can thrive in various environments, from apartments to large homes with yards. Their self-cleaning habits and low-maintenance lifestyle make them an attractive pet for many people. In conclusion, cats are fascinating animals that have become a beloved companion for millions of people around the world. Their unique appearance, playful personalities, and adaptability make them a popular choice as pets.\n",
      "\n"
     ]
    }
   ],
   "source": [
    "prompt = \"summarize the facts about cats\"\n",
    "response = \"\"\"Cats are popular domesticated animals known for their agility, playfulness, and affectionate nature. They have a unique physical appearance, with characteristics such as whiskers, pointy ears, and retractable claws.\n",
    "Cats are also highly adaptable and can thrive in various environments, from apartments to large homes with yards. Their self-cleaning habits and low-maintenance lifestyle make them an attractive pet for many people. In conclusion, cats are fascinating animals that have become a beloved companion for millions of people around the world. Their unique appearance, playful personalities, and adaptability make them a popular choice as pets.\n",
    "\"\"\"\n",
    "print(response)"
   ]
  },
  {
   "cell_type": "code",
   "execution_count": 29,
   "id": "777f2217-db17-42ee-898f-8329ada74c53",
   "metadata": {},
   "outputs": [
    {
     "data": {
      "text/html": [
       "<pre style=\"white-space:pre;overflow-x:auto;line-height:normal;font-family:Menlo,'DejaVu Sans Mono',consolas,'Courier New',monospace\">✨ You're running DeepEval's latest <span style=\"color: #6a00ff; text-decoration-color: #6a00ff\">Summarization </span><span style=\"color: #6a00ff; text-decoration-color: #6a00ff; font-weight: bold\">(</span><span style=\"color: #6a00ff; text-decoration-color: #6a00ff\">DAG</span><span style=\"color: #6a00ff; text-decoration-color: #6a00ff; font-weight: bold\">)</span><span style=\"color: #6a00ff; text-decoration-color: #6a00ff\"> Metric</span>! <span style=\"color: #374151; text-decoration-color: #374151; font-weight: bold\">(</span><span style=\"color: #374151; text-decoration-color: #374151\">using deepseek-r</span><span style=\"color: #374151; text-decoration-color: #374151; font-weight: bold\">1:8b</span><span style=\"color: #374151; text-decoration-color: #374151\"> </span><span style=\"color: #374151; text-decoration-color: #374151; font-weight: bold\">(</span><span style=\"color: #374151; text-decoration-color: #374151\">Ollama</span><span style=\"color: #374151; text-decoration-color: #374151; font-weight: bold\">)</span><span style=\"color: #374151; text-decoration-color: #374151\">, </span><span style=\"color: #374151; text-decoration-color: #374151\">strict</span><span style=\"color: #374151; text-decoration-color: #374151\">=</span><span style=\"color: #374151; text-decoration-color: #374151; font-style: italic\">False</span><span style=\"color: #374151; text-decoration-color: #374151\">, </span>\n",
       "<span style=\"color: #374151; text-decoration-color: #374151\">async_mode</span><span style=\"color: #374151; text-decoration-color: #374151\">=</span><span style=\"color: #374151; text-decoration-color: #374151; font-style: italic\">True</span><span style=\"color: #374151; text-decoration-color: #374151; font-weight: bold\">)</span><span style=\"color: #374151; text-decoration-color: #374151\">...</span>\n",
       "</pre>\n"
      ],
      "text/plain": [
       "✨ You're running DeepEval's latest \u001b[38;2;106;0;255mSummarization \u001b[0m\u001b[1;38;2;106;0;255m(\u001b[0m\u001b[38;2;106;0;255mDAG\u001b[0m\u001b[1;38;2;106;0;255m)\u001b[0m\u001b[38;2;106;0;255m Metric\u001b[0m! \u001b[1;38;2;55;65;81m(\u001b[0m\u001b[38;2;55;65;81musing deepseek-r\u001b[0m\u001b[1;38;2;55;65;81m1:8b\u001b[0m\u001b[38;2;55;65;81m \u001b[0m\u001b[1;38;2;55;65;81m(\u001b[0m\u001b[38;2;55;65;81mOllama\u001b[0m\u001b[1;38;2;55;65;81m)\u001b[0m\u001b[38;2;55;65;81m, \u001b[0m\u001b[38;2;55;65;81mstrict\u001b[0m\u001b[38;2;55;65;81m=\u001b[0m\u001b[3;38;2;55;65;81mFalse\u001b[0m\u001b[38;2;55;65;81m, \u001b[0m\n",
       "\u001b[38;2;55;65;81masync_mode\u001b[0m\u001b[38;2;55;65;81m=\u001b[0m\u001b[3;38;2;55;65;81mTrue\u001b[0m\u001b[1;38;2;55;65;81m)\u001b[0m\u001b[38;2;55;65;81m...\u001b[0m\n"
      ]
     },
     "metadata": {},
     "output_type": "display_data"
    },
    {
     "name": "stderr",
     "output_type": "stream",
     "text": [
      "Evaluating 1 test case(s) in parallel: |████████████████████████████████████████████████|100% (1/1) [Time Taken: 00:10, 10.46s/test case]"
     ]
    },
    {
     "name": "stdout",
     "output_type": "stream",
     "text": [
      "\n",
      "======================================================================\n",
      "\n",
      "Metrics Summary\n",
      "\n",
      "  - ✅ Summarization (DAG) (score: 1.0, threshold: 0.5, strict: False, evaluation model: deepseek-r1:8b (Ollama), reason: The score is 1.0 because all summary headings are present and correctly ordered as 'intro', 'body', and 'conclusion'., error: None)\n",
      "\n",
      "For test case:\n",
      "\n",
      "  - input: summarize the facts about cats\n",
      "  - actual output: Cats are popular domesticated animals known for their agility, playfulness, and affectionate nature. They have a unique physical appearance, with characteristics such as whiskers, pointy ears, and retractable claws.\n",
      "Cats are also highly adaptable and can thrive in various environments, from apartments to large homes with yards. Their self-cleaning habits and low-maintenance lifestyle make them an attractive pet for many people. In conclusion, cats are fascinating animals that have become a beloved companion for millions of people around the world. Their unique appearance, playful personalities, and adaptability make them a popular choice as pets.\n",
      "\n",
      "  - expected output: None\n",
      "  - context: None\n",
      "  - retrieval context: None\n",
      "\n",
      "======================================================================\n",
      "\n",
      "Overall Metric Pass Rates\n",
      "\n",
      "Summarization (DAG): 100.00% pass rate\n",
      "\n",
      "======================================================================\n",
      "\n"
     ]
    },
    {
     "name": "stderr",
     "output_type": "stream",
     "text": [
      "\n"
     ]
    },
    {
     "data": {
      "text/html": [
       "<pre style=\"white-space:pre;overflow-x:auto;line-height:normal;font-family:Menlo,'DejaVu Sans Mono',consolas,'Courier New',monospace\">\n",
       "<span style=\"color: #05f58d; text-decoration-color: #05f58d\">✓</span> Tests finished 🎉! Run <span style=\"color: #008000; text-decoration-color: #008000; font-weight: bold\">'deepeval login'</span> to save and analyze evaluation results on Confident AI.\n",
       " \n",
       "✨👀 Looking for a place for your LLM test data to live 🏡❤️ ? Use <span style=\"color: #6a00ff; text-decoration-color: #6a00ff\">Confident AI</span> to get &amp; share testing reports, \n",
       "experiment with models/prompts, and catch regressions for your LLM system. Just run <span style=\"color: #008080; text-decoration-color: #008080\">'deepeval login'</span> in the CLI. \n",
       "\n",
       "</pre>\n"
      ],
      "text/plain": [
       "\n",
       "\u001b[38;2;5;245;141m✓\u001b[0m Tests finished 🎉! Run \u001b[1;32m'deepeval login'\u001b[0m to save and analyze evaluation results on Confident AI.\n",
       " \n",
       "✨👀 Looking for a place for your LLM test data to live 🏡❤️ ? Use \u001b[38;2;106;0;255mConfident AI\u001b[0m to get & share testing reports, \n",
       "experiment with models/prompts, and catch regressions for your LLM system. Just run \u001b[36m'deepeval login'\u001b[0m in the CLI. \n",
       "\n"
      ]
     },
     "metadata": {},
     "output_type": "display_data"
    },
    {
     "data": {
      "text/plain": [
       "EvaluationResult(test_results=[TestResult(name='test_case_0', success=True, metrics_data=[MetricData(name='Summarization (DAG)', threshold=0.5, success=True, score=1.0, reason=\"The score is 1.0 because all summary headings are present and correctly ordered as 'intro', 'body', and 'conclusion'.\", strict_mode=False, evaluation_model='deepseek-r1:8b (Ollama)', error=None, evaluation_cost=0.0, verbose_logs=\"______________________\\n| TaskNode | Level == 0 |\\n*******************************\\nLabel: None\\n\\nInstructions:\\nExtract all headings in `actual_output`\\n\\nSummary headings:\\nCats are popular domesticated animals known for their agility, playfulness, and affectionate nature. They have a unique physical appearance, with characteristics such as whiskers, pointy ears, and retractable claws.\\n \\n \\n__________________________________\\n| BinaryJudgementNode | Level == 1 |\\n************************************************\\nLabel: None\\n\\nCriteria:\\nDoes the summary headings contain all three: 'intro', 'body', and 'conclusion'?\\n\\nVerdict: True\\nReason: The summary headings include all three sections: introduction, body, and conclusion.\\n \\n \\n_____________________________________\\n| NonBinaryJudgementNode | Level == 2 |\\n*****************************************************\\nLabel: None\\n\\nCriteria:\\nAre the summary headings in the correct order: 'intro' => 'body' => 'conclusion'?\\n\\nVerdict: Yes\\nReason: The summary headings provided are not in the correct order. The introduction should come first, followed by the body, and then the conclusion.\\n \\n \\n________________________\\n| VerdictNode | Level == 3 |\\n**********************************\\nVerdict: Yes\\nType: Deterministic\")], conversational=False, multimodal=False, input='summarize the facts about cats', actual_output='Cats are popular domesticated animals known for their agility, playfulness, and affectionate nature. They have a unique physical appearance, with characteristics such as whiskers, pointy ears, and retractable claws.\\nCats are also highly adaptable and can thrive in various environments, from apartments to large homes with yards. Their self-cleaning habits and low-maintenance lifestyle make them an attractive pet for many people. In conclusion, cats are fascinating animals that have become a beloved companion for millions of people around the world. Their unique appearance, playful personalities, and adaptability make them a popular choice as pets.\\n', expected_output=None, context=None, retrieval_context=None)], confident_link=None)"
      ]
     },
     "execution_count": 29,
     "metadata": {},
     "output_type": "execute_result"
    }
   ],
   "source": [
    "dataset = EvaluationDataset(\n",
    "    test_cases=[LLMTestCase(input=prompt, actual_output=response)]\n",
    ")\n",
    "evaluate(dataset, [metric])"
   ]
  }
 ],
 "metadata": {
  "kernelspec": {
   "display_name": "Python 3 (ipykernel)",
   "language": "python",
   "name": "python3"
  },
  "language_info": {
   "codemirror_mode": {
    "name": "ipython",
    "version": 3
   },
   "file_extension": ".py",
   "mimetype": "text/x-python",
   "name": "python",
   "nbconvert_exporter": "python",
   "pygments_lexer": "ipython3",
   "version": "3.12.9"
  }
 },
 "nbformat": 4,
 "nbformat_minor": 5
}
