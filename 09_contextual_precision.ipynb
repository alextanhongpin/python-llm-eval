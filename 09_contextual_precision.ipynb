{
 "cells": [
  {
   "cell_type": "markdown",
   "id": "6295a3ff-da23-4268-9c10-6db2fb3ca03f",
   "metadata": {},
   "source": [
    "# Contextual Precision\n",
    "\n",
    "\n",
    "https://docs.confident-ai.com/docs/metrics-contextual-precision"
   ]
  },
  {
   "cell_type": "code",
   "execution_count": 2,
   "id": "b85609c4-4cb0-44eb-8abf-a754751c0ea9",
   "metadata": {},
   "outputs": [],
   "source": [
    "from deepeval import evaluate\n",
    "from deepeval.metrics import ContextualPrecisionMetric\n",
    "from deepeval.test_case import LLMTestCase\n",
    "\n",
    "import llm"
   ]
  },
  {
   "cell_type": "code",
   "execution_count": 3,
   "id": "bb5c98ca-b53c-4a1f-b377-cb9cfe6c8797",
   "metadata": {},
   "outputs": [],
   "source": [
    "query, context, prompt, output = llm.mock_data()"
   ]
  },
  {
   "cell_type": "code",
   "execution_count": 4,
   "id": "c29c4175-bd58-4c58-bc27-0942807933e4",
   "metadata": {},
   "outputs": [
    {
     "data": {
      "text/html": [
       "<pre style=\"white-space:pre;overflow-x:auto;line-height:normal;font-family:Menlo,'DejaVu Sans Mono',consolas,'Courier New',monospace\">✨ You're running DeepEval's latest <span style=\"color: #6a00ff; text-decoration-color: #6a00ff\">Contextual Precision Metric</span>! <span style=\"color: #374151; text-decoration-color: #374151; font-weight: bold\">(</span><span style=\"color: #374151; text-decoration-color: #374151\">using deepseek-r</span><span style=\"color: #374151; text-decoration-color: #374151; font-weight: bold\">1:8b</span><span style=\"color: #374151; text-decoration-color: #374151\"> </span><span style=\"color: #374151; text-decoration-color: #374151; font-weight: bold\">(</span><span style=\"color: #374151; text-decoration-color: #374151\">Ollama</span><span style=\"color: #374151; text-decoration-color: #374151; font-weight: bold\">)</span><span style=\"color: #374151; text-decoration-color: #374151\">, </span><span style=\"color: #374151; text-decoration-color: #374151\">strict</span><span style=\"color: #374151; text-decoration-color: #374151\">=</span><span style=\"color: #374151; text-decoration-color: #374151; font-style: italic\">False</span><span style=\"color: #374151; text-decoration-color: #374151\">, </span>\n",
       "<span style=\"color: #374151; text-decoration-color: #374151\">async_mode</span><span style=\"color: #374151; text-decoration-color: #374151\">=</span><span style=\"color: #374151; text-decoration-color: #374151; font-style: italic\">True</span><span style=\"color: #374151; text-decoration-color: #374151; font-weight: bold\">)</span><span style=\"color: #374151; text-decoration-color: #374151\">...</span>\n",
       "</pre>\n"
      ],
      "text/plain": [
       "✨ You're running DeepEval's latest \u001b[38;2;106;0;255mContextual Precision Metric\u001b[0m! \u001b[1;38;2;55;65;81m(\u001b[0m\u001b[38;2;55;65;81musing deepseek-r\u001b[0m\u001b[1;38;2;55;65;81m1:8b\u001b[0m\u001b[38;2;55;65;81m \u001b[0m\u001b[1;38;2;55;65;81m(\u001b[0m\u001b[38;2;55;65;81mOllama\u001b[0m\u001b[1;38;2;55;65;81m)\u001b[0m\u001b[38;2;55;65;81m, \u001b[0m\u001b[38;2;55;65;81mstrict\u001b[0m\u001b[38;2;55;65;81m=\u001b[0m\u001b[3;38;2;55;65;81mFalse\u001b[0m\u001b[38;2;55;65;81m, \u001b[0m\n",
       "\u001b[38;2;55;65;81masync_mode\u001b[0m\u001b[38;2;55;65;81m=\u001b[0m\u001b[3;38;2;55;65;81mTrue\u001b[0m\u001b[1;38;2;55;65;81m)\u001b[0m\u001b[38;2;55;65;81m...\u001b[0m\n"
      ]
     },
     "metadata": {},
     "output_type": "display_data"
    },
    {
     "name": "stderr",
     "output_type": "stream",
     "text": [
      "Evaluating 1 test case(s) in parallel: |█████████████████████████████████████████████████████████████████████████████████████████████████████████████████████████████████████████████████████████████████████████████████████████|100% (1/1) [Time Taken: 00:08,  8.90s/test case]"
     ]
    },
    {
     "name": "stdout",
     "output_type": "stream",
     "text": [
      "\n",
      "======================================================================\n",
      "\n",
      "Metrics Summary\n",
      "\n",
      "  - ✅ Contextual Precision (score: 1.0, threshold: 0.7, strict: False, evaluation model: deepseek-r1:8b (Ollama), reason: The score is 1.00 because the retrieval contexts provide clear and specific information about where to find 'kopitiam', making it easy for the system to identify relevant nodes., error: None)\n",
      "\n",
      "For test case:\n",
      "\n",
      "  - input: Where can I find the kopitiam?\n",
      "  - actual output: You can find Oriental Kopi in KL, Selangor, Penang, or Johor (JB).\n",
      "  - expected output: You can find Oriental Kopi in KL, Selangor, Penang, or Johor (JB).\n",
      "  - context: None\n",
      "  - retrieval context: ['If you’re on the hunt for a standout kopitiam in KL,  Selangor, Penang, or Johor (JB), look no further than Oriental Kopi. Our kopitiam offers a unique blend of traditional and modern flavours, ensuring a memorable experience with every visit.\\n\\n    At Oriental Kopi, we pride ourselves on serving exceptional coffee and delightful homemade traditional toast in a welcoming atmosphere. Our kopitiam provides a cosy retreat to enjoy expertly brewed beverages and freshly prepared treats. From rich, aromatic coffees to delicious local pastries, we deliver a taste of excellence and comfort.\\n\\n    Come and visit our Penang, Johor, Selangor, or KL kopitiam today!']\n",
      "\n",
      "======================================================================\n",
      "\n",
      "Overall Metric Pass Rates\n",
      "\n",
      "Contextual Precision: 100.00% pass rate\n",
      "\n",
      "======================================================================\n",
      "\n"
     ]
    },
    {
     "name": "stderr",
     "output_type": "stream",
     "text": [
      "\n"
     ]
    },
    {
     "data": {
      "text/html": [
       "<pre style=\"white-space:pre;overflow-x:auto;line-height:normal;font-family:Menlo,'DejaVu Sans Mono',consolas,'Courier New',monospace\">\n",
       "<span style=\"color: #05f58d; text-decoration-color: #05f58d\">✓</span> Tests finished 🎉! Run <span style=\"color: #008000; text-decoration-color: #008000; font-weight: bold\">'deepeval login'</span> to save and analyze evaluation results on Confident AI.\n",
       " \n",
       "✨👀 Looking for a place for your LLM test data to live 🏡❤️ ? Use <span style=\"color: #6a00ff; text-decoration-color: #6a00ff\">Confident AI</span> to get &amp; share testing reports, \n",
       "experiment with models/prompts, and catch regressions for your LLM system. Just run <span style=\"color: #008080; text-decoration-color: #008080\">'deepeval login'</span> in the CLI. \n",
       "\n",
       "</pre>\n"
      ],
      "text/plain": [
       "\n",
       "\u001b[38;2;5;245;141m✓\u001b[0m Tests finished 🎉! Run \u001b[1;32m'deepeval login'\u001b[0m to save and analyze evaluation results on Confident AI.\n",
       " \n",
       "✨👀 Looking for a place for your LLM test data to live 🏡❤️ ? Use \u001b[38;2;106;0;255mConfident AI\u001b[0m to get & share testing reports, \n",
       "experiment with models/prompts, and catch regressions for your LLM system. Just run \u001b[36m'deepeval login'\u001b[0m in the CLI. \n",
       "\n"
      ]
     },
     "metadata": {},
     "output_type": "display_data"
    },
    {
     "data": {
      "text/plain": [
       "EvaluationResult(test_results=[TestResult(name='test_case_0', success=True, metrics_data=[MetricData(name='Contextual Precision', threshold=0.7, success=True, score=1.0, reason=\"The score is 1.00 because the retrieval contexts provide clear and specific information about where to find 'kopitiam', making it easy for the system to identify relevant nodes.\", strict_mode=False, evaluation_model='deepseek-r1:8b (Ollama)', error=None, evaluation_cost=0.0, verbose_logs='Verdicts:\\n[\\n    {\\n        \"verdict\": \"yes\",\\n        \"reason\": \"The context directly provides information about where to find \\'kopitiam\\' specifically mentioning Oriental Kopi in KL, Selangor, Penang, and Johor (JB).\"\\n    }\\n]')], conversational=False, multimodal=False, input='Where can I find the kopitiam?', actual_output='You can find Oriental Kopi in KL, Selangor, Penang, or Johor (JB).', expected_output='You can find Oriental Kopi in KL, Selangor, Penang, or Johor (JB).', context=None, retrieval_context=['If you’re on the hunt for a standout kopitiam in KL,  Selangor, Penang, or Johor (JB), look no further than Oriental Kopi. Our kopitiam offers a unique blend of traditional and modern flavours, ensuring a memorable experience with every visit.\\n\\n    At Oriental Kopi, we pride ourselves on serving exceptional coffee and delightful homemade traditional toast in a welcoming atmosphere. Our kopitiam provides a cosy retreat to enjoy expertly brewed beverages and freshly prepared treats. From rich, aromatic coffees to delicious local pastries, we deliver a taste of excellence and comfort.\\n\\n    Come and visit our Penang, Johor, Selangor, or KL kopitiam today!'])], confident_link=None)"
      ]
     },
     "execution_count": 4,
     "metadata": {},
     "output_type": "execute_result"
    }
   ],
   "source": [
    "metric = ContextualPrecisionMetric(threshold=0.7, include_reason=True)\n",
    "\n",
    "\n",
    "test_case = LLMTestCase(\n",
    "    input=query,\n",
    "    actual_output=output,\n",
    "    expected_output=output,\n",
    "    retrieval_context=[context],\n",
    ")\n",
    "\n",
    "evaluate(test_cases=[test_case], metrics=[metric])"
   ]
  }
 ],
 "metadata": {
  "kernelspec": {
   "display_name": "Python 3 (ipykernel)",
   "language": "python",
   "name": "python3"
  },
  "language_info": {
   "codemirror_mode": {
    "name": "ipython",
    "version": 3
   },
   "file_extension": ".py",
   "mimetype": "text/x-python",
   "name": "python",
   "nbconvert_exporter": "python",
   "pygments_lexer": "ipython3",
   "version": "3.12.9"
  }
 },
 "nbformat": 4,
 "nbformat_minor": 5
}
