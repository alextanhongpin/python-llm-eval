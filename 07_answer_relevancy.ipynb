{
 "cells": [
  {
   "cell_type": "markdown",
   "id": "a7e0bff7-0cfa-4f3b-b127-675c4bd55367",
   "metadata": {},
   "source": [
    "## Answer Relevancy\n",
    "\n",
    "\n",
    "https://docs.confident-ai.com/docs/metrics-answer-relevancy"
   ]
  },
  {
   "cell_type": "code",
   "execution_count": 4,
   "id": "7d22804f-3337-49b4-b44f-55e45b829150",
   "metadata": {},
   "outputs": [],
   "source": [
    "from deepeval import evaluate\n",
    "from deepeval.metrics import AnswerRelevancyMetric\n",
    "from deepeval.test_case import LLMTestCase\n",
    "\n",
    "import llm"
   ]
  },
  {
   "cell_type": "code",
   "execution_count": 11,
   "id": "8334f2b5-c7c2-4700-9cba-7d838f65fbee",
   "metadata": {},
   "outputs": [
    {
     "name": "stdout",
     "output_type": "stream",
     "text": [
      "If you’re on the hunt for a standout kopitiam in KL,  Selangor, Penang, or Johor (JB), look no further than Oriental Kopi. Our kopitiam offers a unique blend of traditional and modern flavours, ensuring a memorable experience with every visit.\n",
      "\n",
      "At Oriental Kopi, we pride ourselves on serving exceptional coffee and delightful homemade traditional toast in a welcoming atmosphere. Our kopitiam provides a cosy retreat to enjoy expertly brewed beverages and freshly prepared treats. From rich, aromatic coffees to delicious local pastries, we deliver a taste of excellence and comfort.\n",
      "\n",
      "Come and visit our Penang, Johor, Selangor, or KL kopitiam today!\n"
     ]
    }
   ],
   "source": [
    "context = \"\"\"\n",
    "If you’re on the hunt for a standout kopitiam in KL,  Selangor, Penang, or Johor (JB), look no further than Oriental Kopi. Our kopitiam offers a unique blend of traditional and modern flavours, ensuring a memorable experience with every visit.\n",
    "\n",
    "At Oriental Kopi, we pride ourselves on serving exceptional coffee and delightful homemade traditional toast in a welcoming atmosphere. Our kopitiam provides a cosy retreat to enjoy expertly brewed beverages and freshly prepared treats. From rich, aromatic coffees to delicious local pastries, we deliver a taste of excellence and comfort.\n",
    "\n",
    "Come and visit our Penang, Johor, Selangor, or KL kopitiam today!\n",
    "\"\"\"\n",
    "context = context.strip()\n",
    "print(context)"
   ]
  },
  {
   "cell_type": "code",
   "execution_count": 16,
   "id": "ebe11e36-eb5b-4db5-80b7-ea7ca69c0c80",
   "metadata": {},
   "outputs": [
    {
     "name": "stdout",
     "output_type": "stream",
     "text": [
      "You can find Oriental Kopi in KL, Selangor, Penang, or Johor (JB).\n"
     ]
    }
   ],
   "source": [
    "query = \"Where can I find the kopitiam?\"\n",
    "prompt = \"\"\"\n",
    "You are a helpful AI assistant.\n",
    "You provide relevant answers based on the given context:\n",
    "\n",
    "---\n",
    "{context}\n",
    "---\n",
    "\n",
    "Answer only from the given context. Otherwise, say you don't know.\n",
    "Question: {question}\n",
    "Answer:\n",
    "\"\"\"\n",
    "\n",
    "response = llm.query(prompt.format(context=context, question=query))\n",
    "print(response)"
   ]
  },
  {
   "cell_type": "code",
   "execution_count": 17,
   "id": "3716eb5c-1a15-4cb2-b14d-1894e5152bcc",
   "metadata": {},
   "outputs": [
    {
     "data": {
      "text/html": [
       "<pre style=\"white-space:pre;overflow-x:auto;line-height:normal;font-family:Menlo,'DejaVu Sans Mono',consolas,'Courier New',monospace\">✨ You're running DeepEval's latest <span style=\"color: #6a00ff; text-decoration-color: #6a00ff\">Answer Relevancy Metric</span>! <span style=\"color: #374151; text-decoration-color: #374151; font-weight: bold\">(</span><span style=\"color: #374151; text-decoration-color: #374151\">using deepseek-r</span><span style=\"color: #374151; text-decoration-color: #374151; font-weight: bold\">1:8b</span><span style=\"color: #374151; text-decoration-color: #374151\"> </span><span style=\"color: #374151; text-decoration-color: #374151; font-weight: bold\">(</span><span style=\"color: #374151; text-decoration-color: #374151\">Ollama</span><span style=\"color: #374151; text-decoration-color: #374151; font-weight: bold\">)</span><span style=\"color: #374151; text-decoration-color: #374151\">, </span><span style=\"color: #374151; text-decoration-color: #374151\">strict</span><span style=\"color: #374151; text-decoration-color: #374151\">=</span><span style=\"color: #374151; text-decoration-color: #374151; font-style: italic\">False</span><span style=\"color: #374151; text-decoration-color: #374151\">, </span>\n",
       "<span style=\"color: #374151; text-decoration-color: #374151\">async_mode</span><span style=\"color: #374151; text-decoration-color: #374151\">=</span><span style=\"color: #374151; text-decoration-color: #374151; font-style: italic\">True</span><span style=\"color: #374151; text-decoration-color: #374151; font-weight: bold\">)</span><span style=\"color: #374151; text-decoration-color: #374151\">...</span>\n",
       "</pre>\n"
      ],
      "text/plain": [
       "✨ You're running DeepEval's latest \u001b[38;2;106;0;255mAnswer Relevancy Metric\u001b[0m! \u001b[1;38;2;55;65;81m(\u001b[0m\u001b[38;2;55;65;81musing deepseek-r\u001b[0m\u001b[1;38;2;55;65;81m1:8b\u001b[0m\u001b[38;2;55;65;81m \u001b[0m\u001b[1;38;2;55;65;81m(\u001b[0m\u001b[38;2;55;65;81mOllama\u001b[0m\u001b[1;38;2;55;65;81m)\u001b[0m\u001b[38;2;55;65;81m, \u001b[0m\u001b[38;2;55;65;81mstrict\u001b[0m\u001b[38;2;55;65;81m=\u001b[0m\u001b[3;38;2;55;65;81mFalse\u001b[0m\u001b[38;2;55;65;81m, \u001b[0m\n",
       "\u001b[38;2;55;65;81masync_mode\u001b[0m\u001b[38;2;55;65;81m=\u001b[0m\u001b[3;38;2;55;65;81mTrue\u001b[0m\u001b[1;38;2;55;65;81m)\u001b[0m\u001b[38;2;55;65;81m...\u001b[0m\n"
      ]
     },
     "metadata": {},
     "output_type": "display_data"
    },
    {
     "name": "stderr",
     "output_type": "stream",
     "text": [
      "Evaluating 1 test case(s) in parallel: |█████████████████████████████████████████████████████████████████████████████████████████████████████████████████████████████████████████████████████████████████████████████████████████|100% (1/1) [Time Taken: 00:10, 10.76s/test case]"
     ]
    },
    {
     "name": "stdout",
     "output_type": "stream",
     "text": [
      "\n",
      "======================================================================\n",
      "\n",
      "Metrics Summary\n",
      "\n",
      "  - ✅ Answer Relevancy (score: 1.0, threshold: 0.7, strict: False, evaluation model: deepseek-r1:8b (Ollama), reason: The score is 1.00 because the response accurately addresses the user's question by providing relevant information and guidance., error: None)\n",
      "\n",
      "For test case:\n",
      "\n",
      "  - input: Where can I find the kopitiam?\n",
      "  - actual output: You can find Oriental Kopi in KL, Selangor, Penang, or Johor (JB).\n",
      "  - expected output: None\n",
      "  - context: None\n",
      "  - retrieval context: None\n",
      "\n",
      "======================================================================\n",
      "\n",
      "Overall Metric Pass Rates\n",
      "\n",
      "Answer Relevancy: 100.00% pass rate\n",
      "\n",
      "======================================================================\n",
      "\n"
     ]
    },
    {
     "name": "stderr",
     "output_type": "stream",
     "text": [
      "\n"
     ]
    },
    {
     "data": {
      "text/html": [
       "<pre style=\"white-space:pre;overflow-x:auto;line-height:normal;font-family:Menlo,'DejaVu Sans Mono',consolas,'Courier New',monospace\">\n",
       "<span style=\"color: #05f58d; text-decoration-color: #05f58d\">✓</span> Tests finished 🎉! Run <span style=\"color: #008000; text-decoration-color: #008000; font-weight: bold\">'deepeval login'</span> to save and analyze evaluation results on Confident AI.\n",
       " \n",
       "✨👀 Looking for a place for your LLM test data to live 🏡❤️ ? Use <span style=\"color: #6a00ff; text-decoration-color: #6a00ff\">Confident AI</span> to get &amp; share testing reports, \n",
       "experiment with models/prompts, and catch regressions for your LLM system. Just run <span style=\"color: #008080; text-decoration-color: #008080\">'deepeval login'</span> in the CLI. \n",
       "\n",
       "</pre>\n"
      ],
      "text/plain": [
       "\n",
       "\u001b[38;2;5;245;141m✓\u001b[0m Tests finished 🎉! Run \u001b[1;32m'deepeval login'\u001b[0m to save and analyze evaluation results on Confident AI.\n",
       " \n",
       "✨👀 Looking for a place for your LLM test data to live 🏡❤️ ? Use \u001b[38;2;106;0;255mConfident AI\u001b[0m to get & share testing reports, \n",
       "experiment with models/prompts, and catch regressions for your LLM system. Just run \u001b[36m'deepeval login'\u001b[0m in the CLI. \n",
       "\n"
      ]
     },
     "metadata": {},
     "output_type": "display_data"
    },
    {
     "data": {
      "text/plain": [
       "EvaluationResult(test_results=[TestResult(name='test_case_0', success=True, metrics_data=[MetricData(name='Answer Relevancy', threshold=0.7, success=True, score=1.0, reason=\"The score is 1.00 because the response accurately addresses the user's question by providing relevant information and guidance.\", strict_mode=False, evaluation_model='deepseek-r1:8b (Ollama)', error=None, evaluation_cost=0.0, verbose_logs='Statements:\\n[\\n    \"Oriental Kopi can be found in KL.\",\\n    \"It can also be found in Selangor.\",\\n    \"Penang is another location where it\\'s available.\",\\n    \"Johor (JB) is a location with Oriental Kopi.\"\\n] \\n \\nVerdicts:\\n[\\n    {\\n        \"verdict\": \"yes\",\\n        \"reason\": null\\n    },\\n    {\\n        \"verdict\": \"yes\",\\n        \"reason\": null\\n    },\\n    {\\n        \"verdict\": \"yes\",\\n        \"reason\": null\\n    },\\n    {\\n        \"verdict\": \"yes\",\\n        \"reason\": null\\n    }\\n]')], conversational=False, multimodal=False, input='Where can I find the kopitiam?', actual_output='You can find Oriental Kopi in KL, Selangor, Penang, or Johor (JB).', expected_output=None, context=None, retrieval_context=None)], confident_link=None)"
      ]
     },
     "execution_count": 17,
     "metadata": {},
     "output_type": "execute_result"
    }
   ],
   "source": [
    "metric = AnswerRelevancyMetric(threshold=0.7, include_reason=True)\n",
    "test_case = LLMTestCase(input=query, actual_output=response)\n",
    "evaluate(test_cases=[test_case], metrics=[metric])"
   ]
  },
  {
   "cell_type": "markdown",
   "id": "3d4efaf9-109c-4c71-961e-8c86763cb320",
   "metadata": {},
   "source": [
    "## As a standalone"
   ]
  },
  {
   "cell_type": "code",
   "execution_count": 18,
   "id": "816839a6-039b-416c-bf69-7b18f8ad23f4",
   "metadata": {},
   "outputs": [
    {
     "data": {
      "application/vnd.jupyter.widget-view+json": {
       "model_id": "52acd69c6d0d4a3c9d0bfbcd83da6b55",
       "version_major": 2,
       "version_minor": 0
      },
      "text/plain": [
       "Output()"
      ]
     },
     "metadata": {},
     "output_type": "display_data"
    },
    {
     "data": {
      "text/html": [
       "<pre style=\"white-space:pre;overflow-x:auto;line-height:normal;font-family:Menlo,'DejaVu Sans Mono',consolas,'Courier New',monospace\"></pre>\n"
      ],
      "text/plain": []
     },
     "metadata": {},
     "output_type": "display_data"
    }
   ],
   "source": [
    "metric.measure(test_case)"
   ]
  },
  {
   "cell_type": "code",
   "execution_count": 19,
   "id": "fb6e9bb3-b9fc-404e-8b0e-e58beabf15d5",
   "metadata": {},
   "outputs": [
    {
     "data": {
      "text/plain": [
       "(1.0,\n",
       " 'The score is 1.00 because the output directly addresses the query with a clear and concise answer.')"
      ]
     },
     "execution_count": 19,
     "metadata": {},
     "output_type": "execute_result"
    }
   ],
   "source": [
    "metric.score, metric.reason"
   ]
  }
 ],
 "metadata": {
  "kernelspec": {
   "display_name": "Python 3 (ipykernel)",
   "language": "python",
   "name": "python3"
  },
  "language_info": {
   "codemirror_mode": {
    "name": "ipython",
    "version": 3
   },
   "file_extension": ".py",
   "mimetype": "text/x-python",
   "name": "python",
   "nbconvert_exporter": "python",
   "pygments_lexer": "ipython3",
   "version": "3.12.9"
  }
 },
 "nbformat": 4,
 "nbformat_minor": 5
}
