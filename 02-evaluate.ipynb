{
 "cells": [
  {
   "cell_type": "code",
   "execution_count": 5,
   "id": "0308eed2-4ff4-4557-8f15-c0cd28482fb7",
   "metadata": {},
   "outputs": [],
   "source": [
    "import evaluate"
   ]
  },
  {
   "cell_type": "code",
   "execution_count": 6,
   "id": "be2a4f2b-71ae-47bc-979e-4f447c7ec026",
   "metadata": {},
   "outputs": [],
   "source": [
    "accuracy = evaluate.load('accuracy')"
   ]
  },
  {
   "cell_type": "code",
   "execution_count": 8,
   "id": "9b5c0d4b-baa7-4ff0-b270-bd2394ed91be",
   "metadata": {},
   "outputs": [
    {
     "name": "stdout",
     "output_type": "stream",
     "text": [
      "\n",
      "Accuracy is the proportion of correct predictions among the total number of cases processed. It can be computed with:\n",
      "Accuracy = (TP + TN) / (TP + TN + FP + FN)\n",
      " Where:\n",
      "TP: True positive\n",
      "TN: True negative\n",
      "FP: False positive\n",
      "FN: False negative\n",
      "\n"
     ]
    }
   ],
   "source": [
    "print(accuracy.description)"
   ]
  },
  {
   "cell_type": "code",
   "execution_count": 9,
   "id": "ed530aff-3689-470b-b0be-3bafc7a12b65",
   "metadata": {},
   "outputs": [
    {
     "name": "stdout",
     "output_type": "stream",
     "text": [
      "{'predictions': Value(dtype='int32', id=None), 'references': Value(dtype='int32', id=None)}\n"
     ]
    }
   ],
   "source": [
    "print(accuracy.features)"
   ]
  },
  {
   "cell_type": "code",
   "execution_count": 12,
   "id": "0f9a3606-bd15-4239-b89c-d801eec909ef",
   "metadata": {},
   "outputs": [
    {
     "data": {
      "text/plain": [
       "{'accuracy': 0.75}"
      ]
     },
     "execution_count": 12,
     "metadata": {},
     "output_type": "execute_result"
    }
   ],
   "source": [
    "predictions = [1, 1, 1, 1]\n",
    "references = [1, 1, 0, 1]\n",
    "\n",
    "accuracy.compute(predictions=predictions, references=references)"
   ]
  },
  {
   "cell_type": "code",
   "execution_count": 17,
   "id": "d15bce1a-8275-4fec-91e1-10725a7ebebb",
   "metadata": {},
   "outputs": [
    {
     "data": {
      "text/plain": [
       "{'accuracy': 0.75}"
      ]
     },
     "execution_count": 17,
     "metadata": {},
     "output_type": "execute_result"
    }
   ],
   "source": [
    "for pred, ref in zip(predictions, references):\n",
    "    accuracy.add(predictions=pred, references=ref)\n",
    "accuracy.compute()"
   ]
  },
  {
   "cell_type": "code",
   "execution_count": 19,
   "id": "71af1d66-6e40-4704-8f85-a6f4f168a2f1",
   "metadata": {},
   "outputs": [
    {
     "data": {
      "text/plain": [
       "{'accuracy': 0.75}"
      ]
     },
     "execution_count": 19,
     "metadata": {},
     "output_type": "execute_result"
    }
   ],
   "source": [
    "for pred, ref in zip([[1, 1], [1, 1]], [[1, 1], [0, 1]]):\n",
    "    accuracy.add_batch(predictions=pred, references=ref)\n",
    "accuracy.compute()"
   ]
  },
  {
   "cell_type": "markdown",
   "id": "8b83378a-e245-43fa-85fa-26a267a2ddfc",
   "metadata": {},
   "source": [
    "## Combining several evaluations"
   ]
  },
  {
   "cell_type": "code",
   "execution_count": 21,
   "id": "ae73045c-62be-4312-95a6-18695c1bde29",
   "metadata": {},
   "outputs": [],
   "source": [
    "clf_metrics = evaluate.combine(['accuracy', 'f1', 'precision', 'recall'])"
   ]
  },
  {
   "cell_type": "code",
   "execution_count": 22,
   "id": "ea20131c-9bbd-4882-8f85-2dbe033b6a68",
   "metadata": {},
   "outputs": [
    {
     "data": {
      "text/plain": [
       "{'accuracy': 0.75, 'f1': 0.8571428571428571, 'precision': 0.75, 'recall': 1.0}"
      ]
     },
     "execution_count": 22,
     "metadata": {},
     "output_type": "execute_result"
    }
   ],
   "source": [
    "clf_metrics.compute(predictions=predictions, references=references)"
   ]
  },
  {
   "cell_type": "markdown",
   "id": "ffab5049-51f2-408f-872e-529c3ff42569",
   "metadata": {},
   "source": [
    "## Rouge\n",
    "\n",
    "https://huggingface.co/spaces/evaluate-metric/rouge"
   ]
  },
  {
   "cell_type": "code",
   "execution_count": 28,
   "id": "0737fd65-5157-4285-a94d-807477e8e55d",
   "metadata": {},
   "outputs": [
    {
     "name": "stdout",
     "output_type": "stream",
     "text": [
      "ROUGE, or Recall-Oriented Understudy for Gisting Evaluation, is a set of metrics and a software package used for\n",
      "evaluating automatic summarization and machine translation software in natural language processing.\n",
      "The metrics compare an automatically produced summary or translation against a reference or a set of references (human-produced) summary or translation.\n",
      "\n",
      "Note that ROUGE is case insensitive, meaning that upper case letters are treated the same way as lower case letters.\n",
      "\n",
      "This metrics is a wrapper around Google Research reimplementation of ROUGE:\n",
      "https://github.com/google-research/google-research/tree/master/rouge\n",
      "\n"
     ]
    }
   ],
   "source": [
    "rouge = evaluate.load('rouge')\n",
    "print(rouge.description)"
   ]
  },
  {
   "cell_type": "code",
   "execution_count": 29,
   "id": "bf9d06eb-13e1-4a50-97c8-d47aaa2b74ee",
   "metadata": {},
   "outputs": [
    {
     "name": "stdout",
     "output_type": "stream",
     "text": [
      "[{'predictions': Value(dtype='string', id='sequence'), 'references': Sequence(feature=Value(dtype='string', id='sequence'), length=-1, id=None)}, {'predictions': Value(dtype='string', id='sequence'), 'references': Value(dtype='string', id='sequence')}]\n"
     ]
    }
   ],
   "source": [
    "print(rouge.features)"
   ]
  },
  {
   "cell_type": "code",
   "execution_count": 35,
   "id": "edef6eb5-4fbe-472c-ae01-5433189c5e67",
   "metadata": {},
   "outputs": [
    {
     "data": {
      "text/plain": [
       "{'rouge1': 0.8333333333333333,\n",
       " 'rouge2': 0.75,\n",
       " 'rougeL': 0.8333333333333333,\n",
       " 'rougeLsum': 0.8333333333333333}"
      ]
     },
     "execution_count": 35,
     "metadata": {},
     "output_type": "execute_result"
    }
   ],
   "source": [
    "rouge.compute(predictions=['hello john', 'I am one'], \n",
    "              references=['hello John', 'I am two'])"
   ]
  },
  {
   "cell_type": "code",
   "execution_count": 41,
   "id": "cd492524-c462-4195-97df-1c4d0130b017",
   "metadata": {},
   "outputs": [
    {
     "data": {
      "text/plain": [
       "{'rouge1': 0.8333333333333334,\n",
       " 'rouge2': 0.6,\n",
       " 'rougeL': 0.8333333333333334,\n",
       " 'rougeLsum': 0.8333333333333334}"
      ]
     },
     "execution_count": 41,
     "metadata": {},
     "output_type": "execute_result"
    }
   ],
   "source": [
    "rouge.compute(predictions=['the cat sat on the mat'], \n",
    "              references=['the cat was on the mat'])"
   ]
  },
  {
   "cell_type": "markdown",
   "id": "146099f1-52ae-45ec-bd7c-c676187b9399",
   "metadata": {},
   "source": [
    "## BLEU\n",
    "\n",
    "https://huggingface.co/spaces/evaluate-metric/bleu"
   ]
  },
  {
   "cell_type": "code",
   "execution_count": 31,
   "id": "bf6f5259-7b68-461d-9869-a06ef7727504",
   "metadata": {},
   "outputs": [
    {
     "name": "stderr",
     "output_type": "stream",
     "text": [
      "Downloading builder script: 100%|█████████████████████████████████████████████████████████████████████████████████| 5.94k/5.94k [00:00<00:00, 5.88MB/s]\n",
      "Downloading extra modules: 4.07kB [00:00, 7.39MB/s]                                                                                                    \n",
      "Downloading extra modules: 100%|██████████████████████████████████████████████████████████████████████████████████| 3.34k/3.34k [00:00<00:00, 10.3MB/s]"
     ]
    },
    {
     "name": "stdout",
     "output_type": "stream",
     "text": [
      "BLEU (Bilingual Evaluation Understudy) is an algorithm for evaluating the quality of text which has been machine-translated from one natural language to another.\n",
      "Quality is considered to be the correspondence between a machine's output and that of a human: \"the closer a machine translation is to a professional human translation, the better it is\"\n",
      "– this is the central idea behind BLEU. BLEU was one of the first metrics to claim a high correlation with human judgements of quality, and remains one of the most popular automated and inexpensive metrics.\n",
      "\n",
      "Scores are calculated for individual translated segments—generally sentences—by comparing them with a set of good quality reference translations.\n",
      "Those scores are then averaged over the whole corpus to reach an estimate of the translation's overall quality.\n",
      "Neither intelligibility nor grammatical correctness are not taken into account.\n",
      "\n"
     ]
    },
    {
     "name": "stderr",
     "output_type": "stream",
     "text": [
      "\n"
     ]
    }
   ],
   "source": [
    "bleu = evaluate.load('bleu')\n",
    "print(bleu.description)"
   ]
  },
  {
   "cell_type": "code",
   "execution_count": 33,
   "id": "ac65aa07-ea11-4674-8509-502584f970f1",
   "metadata": {},
   "outputs": [
    {
     "name": "stdout",
     "output_type": "stream",
     "text": [
      "[{'predictions': Value(dtype='string', id='sequence'), 'references': Sequence(feature=Value(dtype='string', id='sequence'), length=-1, id='references')}, {'predictions': Value(dtype='string', id='sequence'), 'references': Value(dtype='string', id='sequence')}]\n"
     ]
    }
   ],
   "source": [
    "print(bleu.features)"
   ]
  },
  {
   "cell_type": "code",
   "execution_count": 34,
   "id": "1c7b6a09-6930-4439-b04c-40b91c90420c",
   "metadata": {},
   "outputs": [
    {
     "data": {
      "text/plain": [
       "{'bleu': 0.0,\n",
       " 'precisions': [0.6, 0.3333333333333333, 0.0, 0.0],\n",
       " 'brevity_penalty': 1.0,\n",
       " 'length_ratio': 1.0,\n",
       " 'translation_length': 5,\n",
       " 'reference_length': 5}"
      ]
     },
     "execution_count": 34,
     "metadata": {},
     "output_type": "execute_result"
    }
   ],
   "source": [
    "bleu.compute(predictions=['hello john', 'I am one'], \n",
    "             references=['hello John', 'I am two'])"
   ]
  },
  {
   "cell_type": "code",
   "execution_count": 51,
   "id": "dd17c218-6bee-4d35-965d-33d5ed756fc6",
   "metadata": {},
   "outputs": [
    {
     "data": {
      "text/plain": [
       "{'bleu': 0.0,\n",
       " 'precisions': [0.8333333333333334, 0.6, 0.25, 0.0],\n",
       " 'brevity_penalty': 1.0,\n",
       " 'length_ratio': 1.0,\n",
       " 'translation_length': 6,\n",
       " 'reference_length': 6}"
      ]
     },
     "execution_count": 51,
     "metadata": {},
     "output_type": "execute_result"
    }
   ],
   "source": [
    "bleu.compute(predictions=['the cat sat on the mat'], \n",
    "             references=['the cat was on the mat'])"
   ]
  }
 ],
 "metadata": {
  "kernelspec": {
   "display_name": "Python 3 (ipykernel)",
   "language": "python",
   "name": "python3"
  },
  "language_info": {
   "codemirror_mode": {
    "name": "ipython",
    "version": 3
   },
   "file_extension": ".py",
   "mimetype": "text/x-python",
   "name": "python",
   "nbconvert_exporter": "python",
   "pygments_lexer": "ipython3",
   "version": "3.11.6"
  }
 },
 "nbformat": 4,
 "nbformat_minor": 5
}
